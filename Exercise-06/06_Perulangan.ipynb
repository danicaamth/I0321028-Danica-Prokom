{
 "cells": [
  {
   "cell_type": "markdown",
   "metadata": {},
   "source": [
    "***\n",
    "<h1 align=\"center\">Exercise 06</h1>\n",
    " \n",
    "***\n",
    "## While Loop\n",
    "## Exercise 6.1\n",
    "isilah bagian rumpang berikut. xx diganti tanggal lahir dan yy diganti menjadi bulan lahir. tandanya menyesuaikan yang lebih besar."
   ]
  },
  {
   "cell_type": "code",
   "execution_count": 16,
   "metadata": {},
   "outputs": [
    {
     "name": "stdout",
     "output_type": "stream",
     "text": [
      "iso ora iso halsuisseo\n",
      "iso ora iso halsuisseo\n",
      "iso ora iso halsuisseo\n",
      "iso ora iso halsuisseo\n",
      "iso ora iso halsuisseo\n",
      "iso ora iso halsuisseo\n",
      "iso ora iso halsuisseo\n",
      "iso ora iso halsuisseo\n",
      "iso ora iso halsuisseo\n",
      "iso ora iso halsuisseo\n",
      "iso ora iso halsuisseo\n",
      "iso ora iso halsuisseo\n",
      "iso ora iso halsuisseo\n",
      "iso ora iso halsuisseo\n",
      "iso ora iso halsuisseo\n",
      "iso ora iso halsuisseo\n",
      "iso ora iso halsuisseo\n",
      "iso ora iso halsuisseo\n",
      "iso ora iso halsuisseo\n",
      "iso ora iso halsuisseo\n",
      "iso ora iso halsuisseo\n",
      "iso ora iso halsuisseo\n",
      "iso ora iso halsuisseo\n",
      "iso ora iso halsuisseo\n"
     ]
    }
   ],
   "source": [
    "#menentukan banyak pengulangan\n",
    "n = 24\n",
    "\n",
    "#melakukan pengulangan\n",
    "i = 1\n",
    "\n",
    "while i <= n :\n",
    "    print (\"iso ora iso halsuisseo\")\n",
    "    #diisi motto kalian\n",
    "    i = i + 1 # sesuaikan dengan atas agar fungsi perulangan dapat berhenti\n"
   ]
  },
  {
   "cell_type": "markdown",
   "metadata": {},
   "source": [
    "## Exercise 6.2\n",
    "\n",
    "Buatlah code seperti yang dicontohkan pada modul agar user dapat menginputkan sendiri jumlah n yang diinginkan"
   ]
  },
  {
   "cell_type": "code",
   "execution_count": 20,
   "metadata": {},
   "outputs": [
    {
     "name": "stdout",
     "output_type": "stream",
     "text": [
      "6\n",
      "7\n",
      "8\n",
      "9\n",
      "10\n"
     ]
    }
   ],
   "source": [
    "#Kerjakan disini\n",
    "n = int(input(\"Input nilai n: \"))\n",
    "i = 6\n",
    "while i <= n:\n",
    "    print(i)\n",
    "    i = i + 1"
   ]
  },
  {
   "cell_type": "markdown",
   "metadata": {},
   "source": [
    "## Excercise 6.3\n",
    "\n",
    "isilah xx, yy, dan tanda rumpang seperti pada exercise 6.1\n"
   ]
  },
  {
   "cell_type": "code",
   "execution_count": 15,
   "metadata": {},
   "outputs": [
    {
     "name": "stdout",
     "output_type": "stream",
     "text": [
      "Baris ke-24 : The Negotiation \n",
      "Baris ke-23 : The Negotiation \n",
      "Baris ke-22 : The Negotiation \n",
      "Baris ke-21 : The Negotiation \n",
      "Baris ke-20 : The Negotiation \n",
      "Baris ke-19 : The Negotiation \n",
      "Baris ke-18 : The Negotiation \n",
      "Baris ke-17 : The Negotiation \n",
      "Baris ke-16 : The Negotiation \n",
      "Baris ke-15 : The Negotiation \n",
      "Baris ke-14 : The Negotiation \n",
      "Baris ke-13 : The Negotiation \n",
      "Baris ke-12 : The Negotiation \n",
      "Baris ke-11 : The Negotiation \n",
      "Baris ke-10 : The Negotiation \n",
      "Baris ke-9 : The Negotiation \n",
      "Baris ke-8 : The Negotiation \n",
      "Baris ke-7 : The Negotiation \n",
      "Baris ke-6 : The Negotiation \n",
      "Baris ke-5 : The Negotiation \n",
      "Baris ke-4 : The Negotiation \n",
      "Baris ke-3 : The Negotiation \n",
      "Baris ke-2 : The Negotiation \n",
      "Baris ke-1 : The Negotiation \n"
     ]
    }
   ],
   "source": [
    "#melakukan pengulangan\n",
    "i = 24\n",
    "\n",
    "while i >= 1 :\n",
    "    print (\"Baris ke-%d : The Negotiation \"%i)\n",
    "    #isi titik-titik dengan judul film favorit kalian\n",
    "    i = i - 1 "
   ]
  },
  {
   "cell_type": "markdown",
   "metadata": {},
   "source": [
    "## FOR LOOP\n",
    "\n",
    "## Exercise 6.4\n",
    "\n",
    "munculkan 3 dari 7 elemen yang berada di dalam list1 dan list2\n"
   ]
  },
  {
   "cell_type": "code",
   "execution_count": 24,
   "metadata": {},
   "outputs": [
    {
     "name": "stdout",
     "output_type": "stream",
     "text": [
      "1 Pecel Surakarta\n",
      "2 Soto Yogyakarta\n",
      "3 Nasi Goreng Surabaya\n"
     ]
    }
   ],
   "source": [
    "list1 = [\"Pecel\", \"Soto\", \"Nasi Goreng\", \"Magelangan\", \"Sundubu Jjigae\", \"Pizza\", \"Ayam Goreng\"] #masukkan 7 list makanan favorit kalian\n",
    "list2 = [\"Surakarta\", \"Yogyakarta\", \"Surabaya\", \"Malang\", \"Seoul\", \"Daegu\", \"Bandung\"] #masukkan 7 list kota favorit kalian\n",
    "\n",
    "for i in range(0,3) :\n",
    "    print(i+1, list1[i] , list2[i])"
   ]
  },
  {
   "cell_type": "markdown",
   "metadata": {},
   "source": [
    "## Perulangan Bersarang\n",
    "\n",
    "## Exercise 6.5"
   ]
  },
  {
   "cell_type": "code",
   "execution_count": 31,
   "metadata": {},
   "outputs": [
    {
     "name": "stdout",
     "output_type": "stream",
     "text": [
      "576 \n",
      "552 529 \n",
      "528 506 484 \n",
      "504 483 462 441 \n",
      "480 460 440 420 400 \n",
      "456 437 418 399 380 361 \n",
      "432 414 396 378 360 342 324 \n",
      "408 391 374 357 340 323 306 289 \n",
      "384 368 352 336 320 304 288 272 256 \n",
      "360 345 330 315 300 285 270 255 240 225 \n",
      "336 322 308 294 280 266 252 238 224 210 196 \n",
      "312 299 286 273 260 247 234 221 208 195 182 169 \n",
      "288 276 264 252 240 228 216 204 192 180 168 156 144 \n",
      "264 253 242 231 220 209 198 187 176 165 154 143 132 121 \n",
      "240 230 220 210 200 190 180 170 160 150 140 130 120 110 100 \n",
      "216 207 198 189 180 171 162 153 144 135 126 117 108 99 90 81 \n",
      "192 184 176 168 160 152 144 136 128 120 112 104 96 88 80 72 64 \n",
      "168 161 154 147 140 133 126 119 112 105 98 91 84 77 70 63 56 49 \n",
      "144 138 132 126 120 114 108 102 96 90 84 78 72 66 60 54 48 42 36 \n",
      "120 115 110 105 100 95 90 85 80 75 70 65 60 55 50 45 40 35 30 25 \n",
      "96 92 88 84 80 76 72 68 64 60 56 52 48 44 40 36 32 28 24 20 16 \n",
      "72 69 66 63 60 57 54 51 48 45 42 39 36 33 30 27 24 21 18 15 12 9 \n",
      "48 46 44 42 40 38 36 34 32 30 28 26 24 22 20 18 16 14 12 10 8 6 4 \n",
      "24 23 22 21 20 19 18 17 16 15 14 13 12 11 10 9 8 7 6 5 4 3 2 1 \n"
     ]
    }
   ],
   "source": [
    "i = 24\n",
    "while i >= 1:\n",
    "    j = 24\n",
    "    while j>=i:\n",
    "        print(\"%d \" % (i*j), end = '')\n",
    "        j = j - 1\n",
    "    print()\n",
    "    i-=1"
   ]
  },
  {
   "cell_type": "markdown",
   "metadata": {},
   "source": [
    "## Pernyataan Loncat\n",
    "\n",
    "## Exercise 6.\n",
    "\n",
    "Buatlah fungsi berikut agar muncul angka hingga berhenti sesuai dengan nilai qq\n",
    "qq = angka favorit kalian\n",
    "pp>qq"
   ]
  },
  {
   "cell_type": "code",
   "execution_count": 32,
   "metadata": {},
   "outputs": [
    {
     "name": "stdout",
     "output_type": "stream",
     "text": [
      "012345678910111213"
     ]
    }
   ],
   "source": [
    "for i in range(17):\n",
    "    print(i,end='')\n",
    "    if i == 13:\n",
    "        break"
   ]
  },
  {
   "cell_type": "markdown",
   "metadata": {},
   "source": [
    "***\n",
    "<h1 align=\"center\">WELL DONE</h1>\n",
    " \n",
    "***"
   ]
  }
 ],
 "metadata": {
  "interpreter": {
   "hash": "cd08f94adcf3cbae37fe85286256f4c2a10455ca9094fd053e9f3d3f09647223"
  },
  "kernelspec": {
   "display_name": "Python 3.9.7 64-bit",
   "language": "python",
   "name": "python3"
  },
  "language_info": {
   "codemirror_mode": {
    "name": "ipython",
    "version": 3
   },
   "file_extension": ".py",
   "mimetype": "text/x-python",
   "name": "python",
   "nbconvert_exporter": "python",
   "pygments_lexer": "ipython3",
   "version": "3.9.7"
  },
  "orig_nbformat": 4
 },
 "nbformat": 4,
 "nbformat_minor": 2
}
